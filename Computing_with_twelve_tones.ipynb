{
  "nbformat": 4,
  "nbformat_minor": 0,
  "metadata": {
    "colab": {
      "provenance": [],
      "authorship_tag": "ABX9TyNYHeUEBPK95q6rbWJ6nlKc",
      "include_colab_link": true
    },
    "kernelspec": {
      "name": "python3",
      "display_name": "Python 3"
    },
    "language_info": {
      "name": "python"
    }
  },
  "cells": [
    {
      "cell_type": "markdown",
      "metadata": {
        "id": "view-in-github",
        "colab_type": "text"
      },
      "source": [
        "<a href=\"https://colab.research.google.com/github/bmill42/musical-structure/blob/main/Computing_with_twelve_tones.ipynb\" target=\"_parent\"><img src=\"https://colab.research.google.com/assets/colab-badge.svg\" alt=\"Open In Colab\"/></a>"
      ]
    },
    {
      "cell_type": "markdown",
      "source": [
        "# Setup"
      ],
      "metadata": {
        "id": "kDnIr5MxOfMp"
      }
    },
    {
      "cell_type": "markdown",
      "source": [
        "The first two cells install some libraries and define some utility functions that will let us do things like see and hear MIDI versions of the musical objects we create. Start reading at the next heading."
      ],
      "metadata": {
        "id": "xqUhMgcAOhhl"
      }
    },
    {
      "cell_type": "code",
      "source": [
        "!pip install music21 --quiet\n",
        "!pip install midi_player --quiet"
      ],
      "metadata": {
        "id": "22hEfyB86RPZ"
      },
      "execution_count": null,
      "outputs": []
    },
    {
      "cell_type": "code",
      "source": [
        "import random\n",
        "import music21\n",
        "from midi_player import MIDIPlayer\n",
        "from midi_player.stylers import basic, cifka_advanced\n",
        "from fractions import Fraction\n",
        "\n",
        "def even_print(thing, space=2):\n",
        "    print(' '.join([str(i) + (space - len(str(i))) * ' ' for i in thing]).strip())\n",
        "    return None\n",
        "\n",
        "def pcset_to_string(pcset, dur='quarter', wait=1, offset=60):\n",
        "    return ' '.join(['n_{}_{} w_{}.0'.format(str(offset+p), dur, wait) for p in pcset])\n",
        "\n",
        "def string_to_midi(pcset, dur='quarter', wait=1, offset=60):\n",
        "    s = pcset_to_string(pcset, dur, wait, offset)\n",
        "    stream = music21.stream.Stream()\n",
        "    time = 1\n",
        "    for i in s.split():\n",
        "        if i.startswith('n'):\n",
        "            note, duration = i.lstrip('n_').split('_')\n",
        "            n = music21.note.Note(int(note))\n",
        "            n.duration.type = duration\n",
        "            stream.insert(time, n)\n",
        "        elif i.startswith('w'):\n",
        "            time += float(Fraction(i.lstrip('w_')))\n",
        "    return stream\n",
        "\n",
        "def play_midi(pcset, dur='quarter', wait=1, offset=60):\n",
        "    midi = string_to_midi(pcset, dur, wait, offset)\n",
        "    midi.write('midi', 'generated.midi')\n",
        "    return MIDIPlayer('generated.midi', 160, styler=cifka_advanced, title='My Player', width='50%')"
      ],
      "metadata": {
        "id": "CzfYcQDyi6zd"
      },
      "execution_count": null,
      "outputs": []
    },
    {
      "cell_type": "markdown",
      "source": [
        "# Pitch and pitch class"
      ],
      "metadata": {
        "id": "frY1feTmPFIr"
      }
    },
    {
      "cell_type": "markdown",
      "source": [
        "For the most part we will use numbers to refer to pitches instead of the typical letters. For example, 60 is the MIDI number for the middle C key on the piano.\n",
        "\n",
        "A musical interval is simply the distance in pitch between two notes. We'll begin by thinking of intervals in terms of keys on the piano, both black and white. For example, the notes 60 and 65 represent an interval of 5 keys, or semitones.\n",
        "\n",
        "Producing these basic **pitch intervals** on the computer is very simple: *just add the size of the interval to the number for the starting pitch.*\n",
        "\n",
        "## Exercise: Pitch intervals\n",
        "\n",
        "**Fill out this function** to return a list containing the starting pitch and the pitch separated from it by the given interval."
      ],
      "metadata": {
        "id": "JPe2nRbYQdW4"
      }
    },
    {
      "cell_type": "code",
      "source": [
        "def pitch_interval(start_pitch, interval=0):\n",
        "    pcset = # your code here\n",
        "    return pcset"
      ],
      "metadata": {
        "id": "5ti1GC-B1lri"
      },
      "execution_count": null,
      "outputs": []
    },
    {
      "cell_type": "markdown",
      "source": [
        "If the function above is working, you can plug in the starting pitch and interval here and see and hear the results in the MIDI player."
      ],
      "metadata": {
        "id": "xTiNZhcySr17"
      }
    },
    {
      "cell_type": "code",
      "source": [
        "starting = 60 # Set these variables to try out different pitch intervals\n",
        "interval = 15\n",
        "\n",
        "play_midi(pitch_interval(starting, interval), dur='half', wait=2, offset=0)"
      ],
      "metadata": {
        "id": "ihEapUoWrw-Q"
      },
      "execution_count": null,
      "outputs": []
    },
    {
      "cell_type": "markdown",
      "source": [
        "## Pitch class\n",
        "\n",
        "**Pitch class** is a name for all of the pitches that are a whole number of octaves apart. For example, the piano has keys named for the pitches C1, C2, C3, C4, and so on, but all of these share the pitch class C.\n",
        "\n",
        "Pitch class can be thought of as the \"generic\" name for any given pitch; it can also be thought of as the result of reducing all pitches down to the same octave.\n",
        "\n",
        "Since we're using numbers instead of letters to represent pitches, and the Western equal-tempered octave has 12 notes, then adding or subtracting 12 (or any multiple of 12) gives us the same pitch class in a different octave.\n",
        "\n",
        "For example, pitch number 60 is right in the middle of the piano keyboard. Adding `12 * n` to 60 shifts the pitch by `n` octaves but maintains the same pitch class."
      ],
      "metadata": {
        "id": "3p654Ex7TFa_"
      }
    },
    {
      "cell_type": "code",
      "source": [
        "n = 2 # number of octaves to shift the pitch\n",
        "60 + (12 * n) # this statement will always return pitch numbers with the same pitch class"
      ],
      "metadata": {
        "id": "EWai2X2CU3_U"
      },
      "execution_count": null,
      "outputs": []
    },
    {
      "cell_type": "markdown",
      "source": [
        "Going in the other direction, we can reduce any actual pitch down to its abstract pitch class by taking its number modulo 12 (recall the clock face example). The note C is traditionally labeled as 0, so shifting note 60 by any number of octaves will always leave us with pitch class 0."
      ],
      "metadata": {
        "id": "feVR5gczVZ13"
      }
    },
    {
      "cell_type": "code",
      "source": [
        "(60 + (12 * n)) % 12"
      ],
      "metadata": {
        "id": "2pIOyGhhVlv4"
      },
      "execution_count": null,
      "outputs": []
    },
    {
      "cell_type": "markdown",
      "source": [
        "### The pitch class universe\n",
        "\n",
        "We can generate a list of all the pitch classes using the `range()` function in Python, which simply returns a list counting from the first argument to the second.\n",
        "\n",
        "Think of this list as representing a single octave on the piano - or *all* octaves on the piano at once."
      ],
      "metadata": {
        "id": "q2V9KFCQWgsd"
      }
    },
    {
      "cell_type": "code",
      "execution_count": null,
      "metadata": {
        "id": "xXk2geD7J8NG"
      },
      "outputs": [],
      "source": [
        "pcs = list(range(0,12))\n",
        "pcs"
      ]
    },
    {
      "cell_type": "markdown",
      "source": [
        "## Pitch class intervals\n",
        "\n",
        "Pitch class intervals are similar to pitch intervals, but both the starting and ending pitches are always within the range of 0 to 11.\n",
        "\n",
        "Think of a clock that starts at midnight, then the same clock at 3pm on the same day. The \"real\" time interval is 15 hours, but the hand on the clock looks like it's only moved 3 hours ahead.\n",
        "\n",
        "The math to produce pitch class intervals is the same as the math to produce single pitch classes: just take the result of the pitch interval modulo 12."
      ],
      "metadata": {
        "id": "5kSLIyTqaGky"
      }
    },
    {
      "cell_type": "code",
      "source": [
        "(0 + 15) % 12"
      ],
      "metadata": {
        "id": "iZ-aQ14Da_8U"
      },
      "execution_count": null,
      "outputs": []
    },
    {
      "cell_type": "markdown",
      "source": [
        "### Exercise: calculating pitch class intervals\n",
        "\n",
        "**Fill out this function** to return a list containing the starting pitch class and the pitch class separated from it by the given interval."
      ],
      "metadata": {
        "id": "xmQk06NhctKB"
      }
    },
    {
      "cell_type": "code",
      "source": [
        "def pc_interval(start_pc, interval=0):\n",
        "    pcset = # your code here\n",
        "\n",
        "    return pcset"
      ],
      "metadata": {
        "id": "0ALhDXTkvVdI"
      },
      "execution_count": null,
      "outputs": []
    },
    {
      "cell_type": "markdown",
      "source": [
        "You can enter the starting pitch class and interval here to listen to the results. Can you find a combination that results in a downwards leap despite being a positive interval?"
      ],
      "metadata": {
        "id": "C8ca1Qz6eClW"
      }
    },
    {
      "cell_type": "code",
      "source": [
        "starting = 6 # Set these variables to try out different pc intervals\n",
        "interval = 8\n",
        "\n",
        "play_midi(pc_interval(starting, interval), dur='half', wait=2)"
      ],
      "metadata": {
        "id": "tbNJtSbuvrPS"
      },
      "execution_count": null,
      "outputs": []
    },
    {
      "cell_type": "markdown",
      "source": [
        "# Twelve-tone music\n",
        "\n",
        "As we've seen, a major current in experimental classical music starting in the early twentieth century was the effort to escape from the existing tonal system, which privileges a set of seven out of the twelve pitch classes, by making equal use of all twelve.\n",
        "\n",
        "A *twelve-tone* or *serialist* work is typically based on a single **tone row**: a set of all twelve pitch classes in any order.\n",
        "\n",
        "We can generate a random tone row from our initial pitch class universe using Python's `random.shuffle()` method."
      ],
      "metadata": {
        "id": "x2VBq58NfDw4"
      }
    },
    {
      "cell_type": "code",
      "source": [
        "tone_row = list(range(0,12))\n",
        "\n",
        "random.shuffle(tone_row)\n",
        "tone_row"
      ],
      "metadata": {
        "id": "aHiMUDN3KnEM"
      },
      "execution_count": null,
      "outputs": []
    },
    {
      "cell_type": "markdown",
      "source": [
        "Listen to your melodious new tone row here."
      ],
      "metadata": {
        "id": "vRJdjFPghMNN"
      }
    },
    {
      "cell_type": "code",
      "source": [
        "play_midi(tone_row)"
      ],
      "metadata": {
        "id": "PlzYhYmhhADh"
      },
      "execution_count": null,
      "outputs": []
    },
    {
      "cell_type": "markdown",
      "source": [
        "## Exercise: calculate a tone row's intervals\n",
        "\n",
        "The numbers in our tone row represent pitch classes, but the characteristic sound of a tone row comes from the *relationships* among these notes - in other words, the **intervals** between the pitch classes.\n",
        "\n",
        "For example, the first interval in the row is the distance between the first and second pitch classes; the second interval is the distance between the second and third pitch class, etc.\n",
        "\n",
        "**Fill out this cell** to create a new Python list called `intervals` containing the pitch class interval between each pair of notes (wrapping around from the last to the first, for 12 total numbers). *Every interval should be a positive number ranging from 1 to 11*. This can be done in one line of code but might be easier with a `for` loop."
      ],
      "metadata": {
        "id": "hDY3i6ckgzq3"
      }
    },
    {
      "cell_type": "code",
      "source": [
        "intervals = []\n",
        "\n",
        "for pc in tone_row:\n",
        "    interval = # your code here\n",
        "\n",
        "    intervals.append(interval)\n",
        "\n",
        "print(intervals)"
      ],
      "metadata": {
        "id": "exqioDuFmaVm"
      },
      "execution_count": null,
      "outputs": []
    },
    {
      "cell_type": "markdown",
      "source": [
        "## The twelve-tone matrix\n",
        "\n",
        "One of the classic tools of twelve-tone composition is the *twelve-tone matrix*. This is a sudoku-like 12x12 grid that begins with the original tone row on the first line.\n",
        "\n",
        "The key to the matrix is the set of intervals that we already calculated. Going downwards from the top left, we repeat the tone row, but **inverted**, meaning that we follow the same set of intervals but negate each of them first. If the first interval is 2, the first inverted interval is -2, and so on.\n",
        "\n",
        "Each column then repeats the same set of intervals, *starting from each successive pitch in the original row*.\n",
        "\n",
        "In the resulting table, the rows are called the **prime forms (P)** of the tone row, because they represent the same set of intervals as the main row but starting on a different pitch. The columns are the **inverted forms (I)**.\n",
        "\n",
        "Reading each row backwards gives the **retrograde forms (R)**, again starting on each pitch, and reading the columns from bottom to top gives the **retrograde inverted forms (RI)**.\n",
        "\n",
        "Together, these four forms represent an array of materials that a composer could use to write a twelve-tone piece.\n",
        "\n",
        "There are various ways to do the math that generates the matrix; this code does it by generating the columns going downward using the inverted intervals."
      ],
      "metadata": {
        "id": "oOqV4SL8jBZj"
      }
    },
    {
      "cell_type": "code",
      "source": [
        "for i in range(12):\n",
        "    even_print([(x - sum(intervals[0:i])) % 12 for x in tone_row], 3)"
      ],
      "metadata": {
        "id": "1eQHUH3EKrbN"
      },
      "execution_count": null,
      "outputs": []
    },
    {
      "cell_type": "markdown",
      "source": [
        "The matrix shows us 12 forms each of **P**, **I**, **R**, and **RI**.\n",
        "\n",
        "One way we could extract all of these forms would be to turn this matrix into a dataframe and pull out individual rows or columns as needed.\n",
        "\n",
        "But instead we'll write functions that can take in the original prime form of a row and give us one of the 47 other possible forms by manipulating the prime form mathematically."
      ],
      "metadata": {
        "id": "EtDwZoVerUA4"
      }
    },
    {
      "cell_type": "markdown",
      "source": [
        "### Exercise: transposition"
      ],
      "metadata": {
        "id": "bDaYPLMDpc9Y"
      }
    },
    {
      "cell_type": "markdown",
      "source": [
        "**Transposition** is the musical process of shifting a musical object (a note, a chord, a melody, or a tone row) by some interval.\n",
        "\n",
        "If our musical object is a list of notes, we simply add or subtract the same interval to every note in the list.\n",
        "\n",
        "**Fill in this function** so that it takes in a pitch class set (abbreviated `pcset`) and an interval and returns the transposed set as a new list."
      ],
      "metadata": {
        "id": "FKjakcQyrLyC"
      }
    },
    {
      "cell_type": "code",
      "source": [
        "def transpose(pcset, interval):\n",
        "    transposed = # your code here\n",
        "    return transposed"
      ],
      "metadata": {
        "id": "d2gGYg08jtUF"
      },
      "execution_count": null,
      "outputs": []
    },
    {
      "cell_type": "code",
      "source": [
        "transpose(tone_row, 9)"
      ],
      "metadata": {
        "id": "22TYdgGHk4gB"
      },
      "execution_count": null,
      "outputs": []
    },
    {
      "cell_type": "markdown",
      "source": [
        "### Exercise: inversion"
      ],
      "metadata": {
        "id": "_Gs4yYz6pg4M"
      }
    },
    {
      "cell_type": "markdown",
      "source": [
        "**Inverting** a musical object means mirroring its intervals, usually around the starting pitch. This is the same process we observed in the first column of the twelve-tone matrix, where we start from the first pitch of the original row and subtract, rather than add, its intervals.\n",
        "\n",
        "**Fill in this function** so that it takes in a `pcset` and returns an inverted set that *begins on the same pitch class*. The code you wrote before to generate the tone row's intervals will be useful here."
      ],
      "metadata": {
        "id": "iBJ6q_JvuKFo"
      }
    },
    {
      "cell_type": "code",
      "source": [
        "def invert(pcset):\n",
        "    inverted = # your code here\n",
        "\n",
        "    return inverted"
      ],
      "metadata": {
        "id": "eNofGEt7tDuS"
      },
      "execution_count": null,
      "outputs": []
    },
    {
      "cell_type": "code",
      "source": [
        "invert(tone_row)"
      ],
      "metadata": {
        "id": "tWzLv5YFtKRW"
      },
      "execution_count": null,
      "outputs": []
    },
    {
      "cell_type": "markdown",
      "source": [
        "### Non-exercise: retrograde\n",
        "\n"
      ],
      "metadata": {
        "id": "-a11ibmLpkAr"
      }
    },
    {
      "cell_type": "markdown",
      "source": [
        "The **retrograde** operation is the easiest to perform - you simply play the musical object's pitches in reverse order.\n",
        "\n",
        "I'll give you this one:"
      ],
      "metadata": {
        "id": "fcMHmlJ_vKy6"
      }
    },
    {
      "cell_type": "code",
      "source": [
        "def retrograde(pcset):\n",
        "    return list(reversed(pcset))"
      ],
      "metadata": {
        "id": "E5h4jDGIv_xu"
      },
      "execution_count": null,
      "outputs": []
    },
    {
      "cell_type": "code",
      "source": [
        "retrograde(tone_row)"
      ],
      "metadata": {
        "id": "v3r-wX4XzoMA"
      },
      "execution_count": null,
      "outputs": []
    },
    {
      "cell_type": "markdown",
      "source": [
        "### Exercise: P, R, I, and RI forms\n",
        "\n"
      ],
      "metadata": {
        "id": "rXjnUlxmqr9K"
      }
    },
    {
      "cell_type": "markdown",
      "source": [
        "The classic twelve-tone matrix includes labels around all its sides identifying the P, R, I, or RI form associated with each row or column. Let's write a function that can generate any of these on command by combining the functions we already wrote.\n",
        "\n",
        "**Fill in this function** to produce any of the 48 forms of the given tone row. The function will take in an argument called `form` that consists of a short string (`'p', 'r', 'i', or 'ri'`) and the number of the pitch class the resulting row should start on."
      ],
      "metadata": {
        "id": "NRocbgLlwJqI"
      }
    },
    {
      "cell_type": "code",
      "source": [
        "def pri(pcset, form='p', transp=0):\n",
        "    pcset_pri = # your code here\n",
        "\n",
        "    return pcset_pri"
      ],
      "metadata": {
        "id": "qABoIjsdzqYW"
      },
      "execution_count": null,
      "outputs": []
    },
    {
      "cell_type": "code",
      "source": [
        "transformed = pri(tone_row, 'ri', 7)\n",
        "print(transformed)\n",
        "play_midi(transformed)"
      ],
      "metadata": {
        "id": "dnQ45f97zsSX"
      },
      "execution_count": null,
      "outputs": []
    }
  ]
}