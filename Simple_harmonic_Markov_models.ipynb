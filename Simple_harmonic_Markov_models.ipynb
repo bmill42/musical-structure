{
  "nbformat": 4,
  "nbformat_minor": 0,
  "metadata": {
    "colab": {
      "provenance": [],
      "authorship_tag": "ABX9TyMF/Fh3idrg0wIrKwd8CJRX",
      "include_colab_link": true
    },
    "kernelspec": {
      "name": "python3",
      "display_name": "Python 3"
    },
    "language_info": {
      "name": "python"
    }
  },
  "cells": [
    {
      "cell_type": "markdown",
      "metadata": {
        "id": "view-in-github",
        "colab_type": "text"
      },
      "source": [
        "<a href=\"https://colab.research.google.com/github/bmill42/musical-structure/blob/main/Simple_harmonic_Markov_models.ipynb\" target=\"_parent\"><img src=\"https://colab.research.google.com/assets/colab-badge.svg\" alt=\"Open In Colab\"/></a>"
      ]
    },
    {
      "cell_type": "markdown",
      "source": [
        "# Setup"
      ],
      "metadata": {
        "id": "dHjdjxUhIz5f"
      }
    },
    {
      "cell_type": "code",
      "source": [
        "!pip install music21 --quiet\n",
        "!pip install midi_player --quiet"
      ],
      "metadata": {
        "id": "VW7yrXUWxdgB"
      },
      "execution_count": null,
      "outputs": []
    },
    {
      "cell_type": "code",
      "execution_count": null,
      "metadata": {
        "id": "732n5rYpfmL2"
      },
      "outputs": [],
      "source": [
        "import random\n",
        "import music21\n",
        "from midi_player import MIDIPlayer\n",
        "from midi_player.stylers import basic, cifka_advanced\n",
        "from fractions import Fraction"
      ]
    },
    {
      "cell_type": "code",
      "source": [
        "octave_map = { '-': 48, '=': 60, '+': 72 }\n",
        "\n",
        "scale_deg_map = { '1': 0, '2': 2, '3': 4, '4': 5, '5': 7, '6': 9, '7': 11 }\n",
        "\n",
        "def scale_degree_to_num(deg):\n",
        "    return octave_map[deg[0]] + scale_deg_map[deg[1]]"
      ],
      "metadata": {
        "id": "JNzwzKXMyTuT"
      },
      "execution_count": null,
      "outputs": []
    },
    {
      "cell_type": "code",
      "source": [
        "def tune_to_string(tune, dur=1, wait=1, rhythms=None):\n",
        "    pitches = tune.split(' ')\n",
        "    if rhythms is None:\n",
        "        return ' '.join(['n_{}_{} w_{}.0'.format(str(scale_degree_to_num(p)), dur, wait) for p in pitches])\n",
        "    else:\n",
        "        pitch_rhythms = zip(pitches, rhythms)\n",
        "        return ' '.join(['n_{}_{} w_{}'.format(str(scale_degree_to_num(pr[0])), pr[1], pr[1]) for pr in pitch_rhythms])\n",
        "\n",
        "def chords_to_string(progression, dur=1, wait=1):\n",
        "    chords = progression.split(' ')\n",
        "    output = ''\n",
        "    for c in chords:\n",
        "        pitches = chord_scale_degrees[c]\n",
        "        output += ' '.join(['n_{}_{}'.format(str(scale_degree_to_num(p)), dur) for p in pitches])\n",
        "        output += ' w_{} '.format(wait)\n",
        "    return output\n",
        "\n",
        "def string_to_midi(tune, dur=1, wait=1, rhythms=None):\n",
        "    s = tune_to_string(tune, dur, wait, rhythms)\n",
        "    stream = music21.stream.Stream()\n",
        "    time = 1\n",
        "    for i in s.split():\n",
        "        if i.startswith('n'):\n",
        "            note, duration = i.lstrip('n_').split('_')\n",
        "            n = music21.note.Note(int(note))\n",
        "            n.duration.quarterLength = float(duration)\n",
        "            stream.insert(time, n)\n",
        "        elif i.startswith('w'):\n",
        "            time += float(Fraction(i.lstrip('w_')))\n",
        "    return stream\n",
        "\n",
        "def chords_to_midi(prog, dur=2, wait=2):\n",
        "    s = chords_to_string(prog, dur, wait)\n",
        "    stream = music21.stream.Stream()\n",
        "    time = 1\n",
        "    for i in s.split():\n",
        "        if i.startswith('n'):\n",
        "            note, duration = i.lstrip('n_').split('_')\n",
        "            n = music21.note.Note(int(note))\n",
        "            n.duration.quarterLength = float(duration)\n",
        "            stream.insert(time, n)\n",
        "        elif i.startswith('w'):\n",
        "            time += float(Fraction(i.lstrip('w_')))\n",
        "    return stream\n",
        "\n",
        "def play_midi(tune, dur=1, wait=1, rhythms=None):\n",
        "    midi = string_to_midi(tune, dur, wait, rhythms)\n",
        "    midi.write('midi', 'generated.midi')\n",
        "    return MIDIPlayer('generated.midi', 120, styler=cifka_advanced, title='My Player', width='50%')\n",
        "\n",
        "def play_midi_chords(prog, dur=2, wait=2):\n",
        "    midi = chords_to_midi(prog, dur, wait)\n",
        "    midi.write('midi', 'generated.midi')\n",
        "    return MIDIPlayer('generated.midi', 120, styler=cifka_advanced, title='My Player', width='50%')"
      ],
      "metadata": {
        "id": "Uyo2rzIvxlPV"
      },
      "execution_count": null,
      "outputs": []
    },
    {
      "cell_type": "code",
      "source": [
        "def next_state(model, cur_state):\n",
        "    return random.choices(population=list(model[cur_state].keys()), weights=list(model[cur_state].values()), k=1)[0]\n",
        "\n",
        "def generate(model):\n",
        "    output = ''\n",
        "    token = next_state(model, 'START')\n",
        "\n",
        "    while token != 'END':\n",
        "        output += token + ' '\n",
        "        token = next_state(model, token)\n",
        "\n",
        "    return output.strip()"
      ],
      "metadata": {
        "id": "D4JjoqiCsOJ6"
      },
      "execution_count": null,
      "outputs": []
    },
    {
      "cell_type": "markdown",
      "source": [
        "# Exercise: Building a harmonic model"
      ],
      "metadata": {
        "id": "Z580Uv0DuxqS"
      }
    },
    {
      "cell_type": "markdown",
      "source": [
        "Just as we can build a Markov model of melodies, rhythms, and intervals, we can also model harmonic progressions. The tokens are just harmonies, so a basic sequence might look like:\n",
        "\n",
        "```\n",
        "I IV V I\n",
        "```\n",
        "\n",
        "Since chords contain multiple notes, we need an extra step to translate chord symbols into specific pitches, so we'll end up with both a `chord_model` and a mapping of `chord_scale_degrees`.\n",
        "\n",
        "The first part of the assignment is to fill out the models below with reasonable values."
      ],
      "metadata": {
        "id": "BO5SbeSWu0Sl"
      }
    },
    {
      "cell_type": "markdown",
      "source": [
        "## A basic harmonic model\n",
        "\n",
        "First we need to model basic chord transitions. The model is currently very simple and incomplete: I always moves to IV, which always moves to V, which always moves to I. *There is no `'START'` or `'END'` state, so the model can't get started, and if it did, it would generate infinite progressions.*\n",
        "\n",
        "**Flesh out the model to represent reasonable harmonic progressions, and make sure to incorporate start and end tokens.** The model should include at least 5 different chords, but the selection of chords and their transition probabilities can be drawn from any style of your choice---classical/common practice harmony, rock, pop, etc."
      ],
      "metadata": {
        "id": "Kl5wxPu_x_0D"
      }
    },
    {
      "cell_type": "code",
      "source": [
        "chord_model = { # Fill this out\n",
        "    'I': {\n",
        "            'IV': 1\n",
        "    },\n",
        "    'IV': {\n",
        "            'V': 1\n",
        "    },\n",
        "    'V': {\n",
        "            'I': 1\n",
        "    }\n",
        "}"
      ],
      "metadata": {
        "id": "f72QjxmzM-PG"
      },
      "execution_count": null,
      "outputs": []
    },
    {
      "cell_type": "markdown",
      "source": [
        "**You'll also need to define the scale degree mappings for the harmonies in your model.** The mappings consist of a dictionary with each chord symbol as keys, and lists of scale degrees as values.\n",
        "\n",
        "The scale degrees should be represented as numbers 1-7 along with octave designations using -/=/+, as in the melodic model. For example, middle C is `'=1'` and the G below that is `'-5'`.\n",
        "\n",
        "Note that this means you can choose the exact voicings for your harmonies, including inversions! Also note that in this simple model, only diatonic notes are allowed, no accidentals."
      ],
      "metadata": {
        "id": "8NKNuDhtzmE1"
      }
    },
    {
      "cell_type": "code",
      "source": [
        "chord_scale_degrees = { # Fill this out, including entries for all harmonies in the chord_model\n",
        "    'I': ['-1', '-3', '-5'], # Feel free to replace this with a better voicing\n",
        "    'IV': [],\n",
        "    'V': []\n",
        "}"
      ],
      "metadata": {
        "id": "U94M_zTUxtZ5"
      },
      "execution_count": null,
      "outputs": []
    },
    {
      "cell_type": "markdown",
      "source": [
        "You can generate a new progression and listen to it here:"
      ],
      "metadata": {
        "id": "QlYVpG6i1T8G"
      }
    },
    {
      "cell_type": "code",
      "source": [
        "play_midi_chords(generate(chord_model))"
      ],
      "metadata": {
        "id": "dEZr79rDQASn"
      },
      "execution_count": null,
      "outputs": []
    },
    {
      "cell_type": "markdown",
      "source": [
        "## Building a model from a corpus"
      ],
      "metadata": {
        "id": "oXw9mduI1xTy"
      }
    },
    {
      "cell_type": "markdown",
      "source": [
        "Finally, you will build another version of the same kind of model, but this time using transition probabilities from a corpus of actual songs.\n",
        "\n",
        "**Select at least 5 songs/musical works and use the transition probabilities for their harmonies to define this model.**\n",
        "\n",
        "You may select the pieces for your corpus however you like: songs that are in a similar style by different artists, songs from the same artist, etc. You can either transcribe songs you already know, refer to published transciptions, or look up the chords for songs online (but do try to verify any online transcriptions before using them)\n",
        "\n",
        "*Depending on the songs you choose, you may also need to create a new `chord_scale_degrees` mapping to map additional chords or new voicings.* If necessary, uncomment the block of code below and fill it out. Just don't change the name of this variable, as the utility functions for the MIDI player depend on it."
      ],
      "metadata": {
        "id": "bWoiulGm13_Y"
      }
    },
    {
      "cell_type": "code",
      "source": [
        "corpus_chord_model = { # Fill this out\n",
        "    'I': {\n",
        "            'IV': 1\n",
        "    },\n",
        "    'IV': {\n",
        "            'V': 1\n",
        "    },\n",
        "    'V': {\n",
        "            'I': 1\n",
        "    }\n",
        "}\n",
        "\n",
        "# If necessary, you can uncomment this and create a new mapping of scale degrees\n",
        "'''chord_scale_degrees = {\n",
        "    'I': ['-1', '-3', '-5'],\n",
        "    'IV': [],\n",
        "    'V': []\n",
        "}'''"
      ],
      "metadata": {
        "id": "tx9Frf54uYnt"
      },
      "execution_count": null,
      "outputs": []
    },
    {
      "cell_type": "markdown",
      "source": [
        "# Writeup\n",
        "\n",
        "**You should include a very brief writeup explaining:**\n",
        "\n",
        "*   What style of music you chose to model in the basic harmonic model\n",
        "*   Which specific songs you included in the corpus for the corpus model\n",
        "*   What are the strengths and weaknesses of your models? To what extent are the weaknesses a result of your own choices for the corpus and/or transition probabilities, and to what extent are they inherent to the Markov model itself?\n",
        "\n",
        "You can either write this up in a text cell below this one or as a separate document"
      ],
      "metadata": {
        "id": "Nx1cMiXi2CdW"
      }
    },
    {
      "cell_type": "code",
      "source": [],
      "metadata": {
        "id": "o8WwmdC07prg"
      },
      "execution_count": null,
      "outputs": []
    }
  ]
}